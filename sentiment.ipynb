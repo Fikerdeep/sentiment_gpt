{
 "cells": [
  {
   "cell_type": "code",
   "execution_count": 2,
   "metadata": {},
   "outputs": [],
   "source": [
    "import openai\n",
    "import os\n",
    "\n",
    "from dotenv import load_dotenv, find_dotenv\n",
    "_ = load_dotenv(find_dotenv()) # read local .env file\n"
   ]
  },
  {
   "cell_type": "code",
   "execution_count": 3,
   "metadata": {},
   "outputs": [],
   "source": [
    "def get_completion(prompt, model=\"gpt-3.5-turbo\"):\n",
    "    messages = [{\"role\": \"user\", \"content\": prompt}]\n",
    "    response = openai.ChatCompletion.create(\n",
    "        model=model,\n",
    "        messages=messages,\n",
    "        temperature=0, \n",
    "    return response.choices[0].message[\"content\"]"
   ]
  },
  {
   "attachments": {},
   "cell_type": "markdown",
   "metadata": {},
   "source": [
    "Sentiment "
   ]
  },
  {
   "cell_type": "code",
   "execution_count": 18,
   "metadata": {},
   "outputs": [],
   "source": [
    "def sentiment_prompt():\n",
    "\n",
    "    student_comment1= \"\"\"i like the feedback from the evaluation \"\"\"\n",
    "    student_comment2 =  '''i don't understand the feedback form the smart grader'''\n",
    "    student_comment3 = '''the feedback were helpful '''\n",
    "    student_comment4 = '''the grading should be checked i don't accept the result as well as the feedback'''\n",
    "\n",
    "    reviews = [student_comment1, student_comment2, student_comment3, student_comment4]\n",
    "    for i in range(len(reviews)):\n",
    "        prompt = f\"\"\"\n",
    "        What is the sentiment of the following student commment, \n",
    "        which is delimited with triple backticks?\n",
    "\n",
    "        Give your answer as a single word, either \"positive\" \\\n",
    "        or \"negative\". and explain you decide the sentiment \n",
    "\n",
    "        Review text: '''{reviews[i]}'''\n",
    "        \"\"\"\n",
    "        response = get_completion(prompt)\n",
    "        print(i, response,'\\n')"
   ]
  },
  {
   "cell_type": "code",
   "execution_count": 19,
   "metadata": {},
   "outputs": [
    {
     "name": "stdout",
     "output_type": "stream",
     "text": [
      "0 positive\n",
      "\n",
      "The sentiment of the comment is positive because the student expresses that they like the feedback they received from the evaluation. The use of the word \"like\" indicates a positive feeling towards the feedback. \n",
      "\n",
      "1 Negative. \n",
      "\n",
      "The use of the word \"don't\" indicates a negative sentiment towards the feedback form. Additionally, the phrase \"don't understand\" suggests frustration or confusion, further emphasizing the negative sentiment. \n",
      "\n",
      "2 positive\n",
      "\n",
      "I decided the sentiment is positive because the student used the word \"helpful\" to describe the feedback they received. This indicates that the feedback had a positive impact on the student's learning and understanding of the subject. \n",
      "\n",
      "3 Negative. \n",
      "\n",
      "The student is expressing dissatisfaction with the grading and feedback they received, indicating a negative sentiment. The use of \"don't accept\" further emphasizes their negative feelings towards the situation. \n",
      "\n"
     ]
    }
   ],
   "source": [
    "sentiment_prompt()"
   ]
  }
 ],
 "metadata": {
  "kernelspec": {
   "display_name": "base",
   "language": "python",
   "name": "python3"
  },
  "language_info": {
   "codemirror_mode": {
    "name": "ipython",
    "version": 3
   },
   "file_extension": ".py",
   "mimetype": "text/x-python",
   "name": "python",
   "nbconvert_exporter": "python",
   "pygments_lexer": "ipython3",
   "version": "3.8.8"
  },
  "orig_nbformat": 4
 },
 "nbformat": 4,
 "nbformat_minor": 2
}
